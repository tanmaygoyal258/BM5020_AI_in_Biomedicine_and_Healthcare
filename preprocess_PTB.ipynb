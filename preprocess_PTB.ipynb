{
 "cells": [
  {
   "cell_type": "code",
   "execution_count": null,
   "metadata": {},
   "outputs": [],
   "source": [
    "import os\n",
    "from glob import glob\n",
    "import wfdb\n",
    "import numpy as np\n",
    "import pandas as pd\n",
    "import scipy"
   ]
  },
  {
   "cell_type": "code",
   "execution_count": null,
   "metadata": {},
   "outputs": [],
   "source": [
    "root = \"/Users/tanmaygoyal/Desktop/Assignments and Events/Biomedicine/Datasets\"\n",
    "new_data_folder = \"PTB_Diagnostic_data\"\n",
    "datapath = os.path.join(root , new_data_folder)"
   ]
  },
  {
   "cell_type": "code",
   "execution_count": null,
   "metadata": {},
   "outputs": [],
   "source": [
    "data_records = []\n",
    "\n",
    "for folder in os.listdir(datapath):\n",
    "    if folder == \"CONTROLS\":\n",
    "        continue\n",
    "    patient_folder = os.path.join(datapath, folder)\n",
    "    records = glob(os.path.join(patient_folder , \"*.hea\"))\n",
    "    for record in records:\n",
    "        data_records.append([patient_folder.split('/')[-1]])\n",
    "        data_records[-1].append(record.split('/')[-1][:-4])\n",
    "        data , info = wfdb.io.rdsamp(os.path.join(record[:-4]))\n",
    "        sample_rate = info['fs']\n",
    "        signal_len = info['sig_len']\n",
    "        num_signals = info['n_sig']\n",
    "        signal_order = info['sig_name']\n",
    "        age = info['comments'][0][5:]\n",
    "        age = int(age) if age != \"n/a\" else np.NaN\n",
    "        sex = info['comments'][1][5:]\n",
    "        dx = info['comments'][4][len(\"reason for admission: \"):]\n",
    "        data_records[-1].append(sample_rate)\n",
    "        data_records[-1].append(signal_len)\n",
    "        data_records[-1].append(num_signals)\n",
    "        data_records[-1].append(signal_order)\n",
    "        data_records[-1].append(age)\n",
    "        data_records[-1].append(sex)\n",
    "        data_records[-1].append(dx)\n",
    "\n",
    "    column_names = ['patient_id', 'record_number', 'sample_rate', 'signal_len', 'number_signals', 'signal_order' , 'age' , 'sex' , 'dx']\n",
    "    df = pd.DataFrame(data=data_records, columns=column_names)\n",
    "    df.sort_values('patient_id').to_csv(\"/Users/tanmaygoyal/Desktop/Assignments and Events/Biomedicine/ECG_Project/PTB_reference.csv\", index=None)"
   ]
  },
  {
   "cell_type": "code",
   "execution_count": 64,
   "metadata": {},
   "outputs": [],
   "source": [
    "os.mkdir(\"/Users/tanmaygoyal/Desktop/Assignments and Events/Biomedicine/Datasets/Processed_PTB_data\")\n",
    "os.chdir(\"/Users/tanmaygoyal/Desktop/Assignments and Events/Biomedicine/Datasets/Processed_PTB_data\")\n",
    "for folder in os.listdir(datapath):\n",
    "    if folder == \"CONTROLS\":\n",
    "        continue\n",
    "    patient_folder = os.path.join(datapath, folder)\n",
    "    records = glob(os.path.join(patient_folder , \"*.hea\"))\n",
    "    for record in records:\n",
    "        data , _ = wfdb.io.rdsamp(os.path.join(record[:-4]))\n",
    "        dict  = {}\n",
    "        dict[\"val\"] = data\n",
    "        file_name = patient_folder.split('/')[-1] + \"_\" + record.split('/')[-1][:-4]\n",
    "        scipy.io.savemat(file_name=file_name + \".mat\" , mdict=dict)"
   ]
  }
 ],
 "metadata": {
  "kernelspec": {
   "display_name": "use_this",
   "language": "python",
   "name": "python3"
  },
  "language_info": {
   "codemirror_mode": {
    "name": "ipython",
    "version": 3
   },
   "file_extension": ".py",
   "mimetype": "text/x-python",
   "name": "python",
   "nbconvert_exporter": "python",
   "pygments_lexer": "ipython3",
   "version": "3.12.2"
  }
 },
 "nbformat": 4,
 "nbformat_minor": 2
}
