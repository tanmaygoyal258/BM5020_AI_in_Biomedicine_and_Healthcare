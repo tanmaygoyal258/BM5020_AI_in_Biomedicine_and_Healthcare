{
 "cells": [
  {
   "cell_type": "code",
   "execution_count": null,
   "metadata": {},
   "outputs": [],
   "source": [
    "import os\n",
    "from glob import glob\n",
    "import wfdb\n",
    "import numpy as np\n",
    "import pandas as pd\n",
    "import scipy\n",
    "from tqdm import tqdm"
   ]
  },
  {
   "cell_type": "code",
   "execution_count": null,
   "metadata": {},
   "outputs": [],
   "source": [
    "root = \"/Users/tanmaygoyal/Desktop/Assignments and Events/Biomedicine/ECG_Project/data/PTB_XL\""
   ]
  },
  {
   "cell_type": "code",
   "execution_count": null,
   "metadata": {},
   "outputs": [],
   "source": [
    "hr_records = []\n",
    "\n",
    "original_data_source = \"/Users/tanmaygoyal/Desktop/Assignments and Events/Biomedicine/Datasets/PTB_XL_data\"\n",
    "with open(original_data_source + \"/RECORDS\" , 'r') as f:\n",
    "    records = f.readlines()\n",
    "for r in records:   \n",
    "    if \"records500\" in r:\n",
    "        hr_records.append(r.strip(\"\\n\"))\n",
    "\n",
    "for r in hr_records:\n",
    "    data , m = wfdb.rdsamp(original_data_source + \"/\" + r)\n",
    "    dict = {}\n",
    "    dict['val'] = data\n",
    "    file_name = r.split(\"/\")[-1].split(\"_\")[0] + \".mat\"\n",
    "    scipy.io.savemat(file_name = file_name , mdict = dict)"
   ]
  },
  {
   "cell_type": "code",
   "execution_count": null,
   "metadata": {},
   "outputs": [],
   "source": [
    "data_records = []\n",
    "\n",
    "with open(os.path.join(root, \"RECORDS\"), \"r\") as f:\n",
    "    for line in f:\n",
    "        if \"records500\" in line:\n",
    "            data_records.append(os.path.join(root , line.strip()))"
   ]
  },
  {
   "cell_type": "code",
   "execution_count": null,
   "metadata": {},
   "outputs": [],
   "source": [
    "meta_info = pd.read_csv(\"/Users/tanmaygoyal/Desktop/Assignments and Events/Biomedicine/ECG_Project/data/PTB_XL/ptbxl_database.csv\")\n",
    "meta_info['scp_codes']\n"
   ]
  },
  {
   "cell_type": "code",
   "execution_count": null,
   "metadata": {},
   "outputs": [],
   "source": [
    "scp_codes_df = pd.read_csv(\"/Users/tanmaygoyal/Desktop/Assignments and Events/Biomedicine/ECG_project/data/PTB_XL/scp_statements.csv\")\n",
    "scp_codes_df.rename(columns = {'Unnamed: 0' : 'Potential_diagnosis'} , inplace = True)"
   ]
  },
  {
   "cell_type": "code",
   "execution_count": null,
   "metadata": {},
   "outputs": [],
   "source": [
    "print(meta_info.columns)\n",
    "new_df = meta_info[['filename_hr' , 'ecg_id' , 'age' , 'sex' , 'scp_codes']]"
   ]
  },
  {
   "cell_type": "code",
   "execution_count": null,
   "metadata": {},
   "outputs": [],
   "source": [
    "# finding the non-zero values in scp_codes_column\n",
    "collection_non_zero_strings = []\n",
    "for row in new_df.iterrows():\n",
    "    non_zero_string = \"\"\n",
    "    dict_string = row[1]['scp_codes']\n",
    "    dict_string_split = dict_string.split(\",\")\n",
    "    dict_string_split = [x.split(\":\") for x in dict_string_split]\n",
    "    for x in dict_string_split:\n",
    "        x[0] = x[0].strip(' ')\n",
    "        x[0] = x[0].strip(\"{\")\n",
    "        x[0] = x[0].strip(' ')\n",
    "        x[0] = x[0].strip('\\'')\n",
    "        x[1] = x[1].strip(' ')\n",
    "        x[1] = x[1].strip('}')\n",
    "        x[1] = float(x[1])\n",
    "        if x[1]!=0:\n",
    "            non_zero_string = non_zero_string + x[0] + \" \"\n",
    "    collection_non_zero_strings.append(non_zero_string)\n",
    "\n",
    "new_df['potential_diagnosis'] = collection_non_zero_strings\n",
    "new_df.drop(columns = ['scp_codes'] , inplace = True)\n",
    "split_diagnosis = new_df['potential_diagnosis'].str.split(\" \" , expand = True)\n",
    "new_df = pd.concat((new_df , split_diagnosis) , axis = 1)\n",
    "new_df.drop(columns = ['potential_diagnosis'] , inplace = True)\n",
    "new_df.rename(columns = {0 : \"diagnosis_0\" , 1 : \"diagnosis_1\" , 2 : \"diagnosis_2\" , 3 : \"diagnosis_3\" , 4 : \"diagnosis_4\" , 5 : \"diagnosis_5\"} , inplace = True)"
   ]
  },
  {
   "cell_type": "code",
   "execution_count": null,
   "metadata": {},
   "outputs": [],
   "source": [
    "new_df_other_columns = [c for c in new_df.columns if c != \"filename_hr\"]\n",
    "new_df['patient_id'] = new_df['filename_hr'].apply(lambda x: x.split(\"/\")[-1].split(\"_\")[0])\n",
    "new_df_new_columns = ['patient_id'] + new_df_other_columns\n",
    "new_df = new_df[new_df_new_columns]\n",
    "new_df.to_csv(\"/Users/tanmaygoyal/Desktop/Assignments and Events/Biomedicine/ECG_Project/data/PTB_XL/reference.csv\" , index = False , header = True)"
   ]
  },
  {
   "cell_type": "code",
   "execution_count": null,
   "metadata": {},
   "outputs": [],
   "source": [
    "# creating a table for the diagnosis vs number of values\n",
    "columns = ['diagnosis_' + str(i) for i in range(6)]\n",
    "unique_diagnosis = new_df['diagnosis_0'].unique().tolist()\n",
    "for col in columns[1:]:\n",
    "    unique_diagnosis += new_df[col].unique().tolist()\n",
    "unique_diagnosis = list(set(unique_diagnosis))\n",
    "unique_diagnosis.remove('')\n",
    "dict_counts = {}\n",
    "for diagnosis in unique_diagnosis:\n",
    "    dict_counts[diagnosis] = []\n",
    "    for col in columns:\n",
    "        try:\n",
    "            dict_counts[diagnosis].append(new_df[col].value_counts()[diagnosis])\n",
    "        except:\n",
    "            dict_counts[diagnosis].append(0)\n",
    "\n",
    "count_df = pd.DataFrame(dict_counts).T\n",
    "count_df.rename(columns = {i : \"diagnosis_\" + str(i) for i in range(6)} , inplace = True)\n",
    "for col in count_df.columns:\n",
    "    count_df.loc[None , col] =  len(new_df) - count_df[col].sum()\n",
    "count_df"
   ]
  },
  {
   "cell_type": "code",
   "execution_count": null,
   "metadata": {},
   "outputs": [],
   "source": [
    "for col in count_df.columns:\n",
    "    print(col , count_df[col].sum())"
   ]
  },
  {
   "cell_type": "code",
   "execution_count": null,
   "metadata": {},
   "outputs": [],
   "source": [
    "df = pd.read_csv(\"/Users/tanmaygoyal/Desktop/Assignments and Events/Biomedicine/ECG_Project/data/CPSC/labels.csv\")"
   ]
  },
  {
   "cell_type": "code",
   "execution_count": null,
   "metadata": {},
   "outputs": [],
   "source": [
    "df.columns"
   ]
  },
  {
   "cell_type": "code",
   "execution_count": null,
   "metadata": {},
   "outputs": [],
   "source": [
    "label_csv_path =\"/Users/tanmaygoyal/Desktop/Assignments and Events/Biomedicine/ECG_Project/data/PTB_XL/label.csv\""
   ]
  },
  {
   "cell_type": "code",
   "execution_count": null,
   "metadata": {},
   "outputs": [],
   "source": [
    "new_df"
   ]
  },
  {
   "cell_type": "code",
   "execution_count": null,
   "metadata": {},
   "outputs": [],
   "source": [
    "# collecting all potential labels\n",
    "label_csv = new_df['filename_hr'].to_frame()\n",
    "\n",
    "potential_labels = []\n",
    "for cols in ['diagnosis_'+ str(i) for i in range(6)]:\n",
    "    potential_labels += new_df[cols].tolist()\n",
    "    potential_labels = list(set(potential_labels))\n",
    "potential_labels.remove(None)\n",
    "potential_labels.remove('')\n",
    "\n",
    "for label in (potential_labels):\n",
    "    label_csv[label] = 0\n",
    "    for col in ['diagnosis_'+ str(i) for i in range(6)]:\n",
    "        all_with_label1 = new_df[new_df[col] == label]['filename_hr'].tolist()      \n",
    "        label_csv.loc[label_csv['filename_hr'].isin(all_with_label1) , label] = 1\n",
    "\n",
    "label_csv['patient_id'] = label_csv['filename_hr'].apply(lambda x: x.split(\"/\")[-1].split(\"_\")[0])\n",
    "label_csv.drop(columns = [\"filename_hr\"] , axis = 1 , inplace = True)\n",
    "label_csv_columns = ['patient_id']+potential_labels\n",
    "label_csv = label_csv[label_csv_columns]"
   ]
  },
  {
   "cell_type": "code",
   "execution_count": null,
   "metadata": {},
   "outputs": [],
   "source": [
    "label_csv.to_csv(label_csv_path , index = False , header = True)"
   ]
  },
  {
   "cell_type": "code",
   "execution_count": null,
   "metadata": {},
   "outputs": [],
   "source": [
    "label_csv[potential_labels].sum()"
   ]
  }
 ],
 "metadata": {
  "kernelspec": {
   "display_name": "use_this",
   "language": "python",
   "name": "python3"
  },
  "language_info": {
   "codemirror_mode": {
    "name": "ipython",
    "version": 3
   },
   "file_extension": ".py",
   "mimetype": "text/x-python",
   "name": "python",
   "nbconvert_exporter": "python",
   "pygments_lexer": "ipython3",
   "version": "3.12.2"
  }
 },
 "nbformat": 4,
 "nbformat_minor": 2
}
